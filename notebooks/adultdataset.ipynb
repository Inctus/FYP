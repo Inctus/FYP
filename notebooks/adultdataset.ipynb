{
 "cells": [
  {
   "cell_type": "code",
   "execution_count": null,
   "id": "ae2f0970",
   "metadata": {},
   "outputs": [],
   "source": [
    "from aif360.datasets import AdultDataset as Aif360AdultDataset\n",
    "\n",
    "adult_ds = Aif360AdultDataset(\n",
    "    protected_attribute_names=['sex'],  # Primary protected attribute\n",
    "    privileged_classes=[['Male']],      # Privileged group definition\n",
    "    categorical_features=['workclass', 'education', 'marital-status',\n",
    "                        'occupation', 'relationship', 'race', 'native-country'],\n",
    "    features_to_keep=['age', 'workclass', 'education', 'education-num',\n",
    "                    'marital-status', 'occupation', 'relationship', 'race',\n",
    "                    'sex', 'capital-gain', 'capital-loss', 'hours-per-week',\n",
    "                    'native-country'],\n",
    "    na_values=['?'],  # Handle missing values\n",
    "    custom_preprocessing=lambda df: df.dropna()  # Simple approach: drop missing values\n",
    ")"
   ]
  },
  {
   "cell_type": "code",
   "execution_count": 2,
   "id": "3c0460c9",
   "metadata": {},
   "outputs": [
    {
     "name": "stdout",
     "output_type": "stream",
     "text": [
      "Unique values for protected attribute 'sex': [1. 0.]\n"
     ]
    }
   ],
   "source": [
    "df = adult_ds.convert_to_dataframe()[0]\n",
    "# Unique protected attr values for sex\n",
    "print(f\"Unique values for protected attribute 'sex': {df['sex'].unique()}\")"
   ]
  },
  {
   "cell_type": "code",
   "execution_count": null,
   "id": "1e0981fd",
   "metadata": {},
   "outputs": [
    {
     "name": "stdout",
     "output_type": "stream",
     "text": [
      "Protected attribute (sex) values (first 10): [1. 1. 1. 1. 1. 1. 0. 1. 1. 1.]\n"
     ]
    }
   ],
   "source": [
    "# Protected attributes (numpy array)\n",
    "protected_attrs = adult_ds.protected_attributes\n",
    "\n",
    "# First 10 values\n",
    "print(\"Protected attribute (sex) values (first 10):\", protected_attrs[:10].ravel())"
   ]
  },
  {
   "cell_type": "code",
   "execution_count": null,
   "id": "e33d0c2c",
   "metadata": {},
   "outputs": [],
   "source": []
  }
 ],
 "metadata": {
  "kernelspec": {
   "display_name": "venv",
   "language": "python",
   "name": "python3"
  },
  "language_info": {
   "codemirror_mode": {
    "name": "ipython",
    "version": 3
   },
   "file_extension": ".py",
   "mimetype": "text/x-python",
   "name": "python",
   "nbconvert_exporter": "python",
   "pygments_lexer": "ipython3",
   "version": "3.10.12"
  }
 },
 "nbformat": 4,
 "nbformat_minor": 5
}
