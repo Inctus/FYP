{
 "cells": [
  {
   "cell_type": "code",
   "execution_count": 1,
   "id": "24001a16",
   "metadata": {},
   "outputs": [
    {
     "name": "stdout",
     "output_type": "stream",
     "text": [
      "/homes/hh2721/fyp/haashim_repo/src\n"
     ]
    }
   ],
   "source": [
    "%cd ../src/"
   ]
  },
  {
   "cell_type": "code",
   "execution_count": 2,
   "id": "db83f912",
   "metadata": {},
   "outputs": [],
   "source": [
    "from datasets.acs_travel import ACSTravelTimeDataset"
   ]
  },
  {
   "cell_type": "code",
   "execution_count": null,
   "id": "6118ca85",
   "metadata": {},
   "outputs": [
    {
     "name": "stdout",
     "output_type": "stream",
     "text": [
      "Index(['AGEP', 'SEX', 'POVPIP', 'JWMNP_GT_20', 'SCHL_21.0', 'SCHL_16.0',\n",
      "       'SCHL_19.0', 'SCHL_22.0', 'SCHL_20.0', 'SCHL_18.0', 'SCHL_23.0',\n",
      "       'SCHL_15.0', 'SCHL_24.0', 'SCHL_17.0', 'MAR_1.0', 'MAR_5.0', 'MAR_3.0',\n",
      "       'MAR_4.0', 'MAR_2.0', 'DIS_2.0', 'DIS_1.0', 'ESP_0.0', 'ESP_1.0',\n",
      "       'ESP_7.0', 'ESP_2.0', 'ESP_5.0', 'ESP_8.0', 'ESP_3.0', 'ESP_4.0',\n",
      "       'ESP_6.0', 'MIG_1.0', 'MIG_3.0', 'MIG_2.0', 'RELP_0.0', 'RELP_1.0',\n",
      "       'RELP_2.0', 'RELP_13.0', 'RELP_12.0', 'RELP_5.0', 'RELP_10.0',\n",
      "       'RELP_15.0', 'RELP_17.0', 'RELP_6.0', 'RAC1P_1.0', 'RAC1P_6.0',\n",
      "       'RAC1P_8.0', 'RAC1P_2.0', 'RAC1P_9.0', 'RAC1P_3.0', 'RAC1P_7.0',\n",
      "       'RAC1P_5.0', 'RAC1P_4.0', 'PUMA_3729.0', 'PUMA_8501.0', 'PUMA_110.0',\n",
      "       'PUMA_3735.0', 'PUMA_3734.0', 'PUMA_102.0', 'PUMA_5905.0',\n",
      "       'PUMA_3702.0', 'PUMA_5914.0', 'PUMA_3732.0', 'ST_6.0', 'CIT_1.0',\n",
      "       'CIT_4.0', 'CIT_5.0', 'CIT_3.0', 'CIT_2.0', 'OCCP_440.0', 'OCCP_2310.0',\n",
      "       'OCCP_4760.0', 'OCCP_9130.0', 'OCCP_4720.0', 'OCCP_3255.0',\n",
      "       'OCCP_5240.0', 'OCCP_4700.0', 'OCCP_3602.0', 'OCCP_1021.0', 'JWTR_1.0',\n",
      "       'JWTR_11.0', 'JWTR_2.0', 'JWTR_10.0', 'JWTR_4.0', 'JWTR_12.0',\n",
      "       'JWTR_9.0', 'JWTR_5.0', 'JWTR_8.0', 'JWTR_7.0', 'POWPUMA_3700.0',\n",
      "       'POWPUMA_5900.0', 'POWPUMA_7300.0', 'POWPUMA_8500.0', 'POWPUMA_6500.0',\n",
      "       'POWPUMA_100.0', 'POWPUMA_7100.0', 'POWPUMA_7500.0', 'POWPUMA_6700.0',\n",
      "       'POWPUMA_8100.0'],\n",
      "      dtype='object')\n"
     ]
    }
   ],
   "source": [
    "dataset = ACSTravelTimeDataset()"
   ]
  },
  {
   "cell_type": "code",
   "execution_count": null,
   "id": "802f6e75",
   "metadata": {},
   "outputs": [
    {
     "data": {
      "text/plain": [
       "97"
      ]
     },
     "execution_count": 5,
     "metadata": {},
     "output_type": "execute_result"
    }
   ],
   "source": [
    "\n",
    "dataset.n_features"
   ]
  },
  {
   "cell_type": "code",
   "execution_count": null,
   "id": "11ad85cc",
   "metadata": {},
   "outputs": [],
   "source": []
  }
 ],
 "metadata": {
  "kernelspec": {
   "display_name": "venv",
   "language": "python",
   "name": "python3"
  },
  "language_info": {
   "codemirror_mode": {
    "name": "ipython",
    "version": 3
   },
   "file_extension": ".py",
   "mimetype": "text/x-python",
   "name": "python",
   "nbconvert_exporter": "python",
   "pygments_lexer": "ipython3",
   "version": "3.10.12"
  }
 },
 "nbformat": 4,
 "nbformat_minor": 5
}
