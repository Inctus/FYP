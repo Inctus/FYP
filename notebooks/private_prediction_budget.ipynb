{
 "cells": [
  {
   "cell_type": "code",
   "execution_count": 1,
   "id": "d7a201a8",
   "metadata": {},
   "outputs": [
    {
     "name": "stdout",
     "output_type": "stream",
     "text": [
      "/homes/hh2721/fyp/haashim_repo/src\n"
     ]
    }
   ],
   "source": [
    "%cd ../src"
   ]
  },
  {
   "cell_type": "code",
   "execution_count": 4,
   "id": "ee10b15b",
   "metadata": {},
   "outputs": [],
   "source": [
    "import numpy as np\n",
    "\n",
    "from util.privacy import PrivacyBudget"
   ]
  },
  {
   "cell_type": "code",
   "execution_count": 5,
   "id": "112dcedb",
   "metadata": {},
   "outputs": [],
   "source": [
    "def __total_delta_safe(spent_budget, slack):\n",
    "        delta_spend = [slack]\n",
    "        for _, delta in spent_budget:\n",
    "            delta_spend.append(delta)\n",
    "        delta_spend.sort()\n",
    "\n",
    "        # (1 - a) * (1 - b) = 1 - (a + b - a * b)\n",
    "        prod = 0\n",
    "        for delta in delta_spend:\n",
    "            prod += delta - prod * delta\n",
    "\n",
    "        return prod"
   ]
  },
  {
   "cell_type": "code",
   "execution_count": 6,
   "id": "7a867c6e",
   "metadata": {},
   "outputs": [],
   "source": [
    "def total(spent_budget=None, slack=None):\n",
    "    epsilon_sum, epsilon_exp_sum, epsilon_sq_sum = 0, 0, 0\n",
    "\n",
    "    for epsilon, _ in spent_budget:\n",
    "        epsilon_sum += epsilon\n",
    "        epsilon_exp_sum += (1 - np.exp(-epsilon)) * epsilon / (1 + np.exp(-epsilon))\n",
    "        epsilon_sq_sum += epsilon ** 2\n",
    "\n",
    "    total_epsilon_naive = epsilon_sum\n",
    "    total_delta = __total_delta_safe(spent_budget, slack)\n",
    "\n",
    "    if slack == 0:\n",
    "        return PrivacyBudget(total_epsilon_naive, total_delta)\n",
    "\n",
    "    total_epsilon_drv = epsilon_exp_sum + np.sqrt(2 * epsilon_sq_sum * np.log(1 / slack))\n",
    "    total_epsilon_kov = epsilon_exp_sum + np.sqrt(2 * epsilon_sq_sum *\n",
    "                                                    np.log(np.exp(1) + np.sqrt(epsilon_sq_sum) / slack))\n",
    "\n",
    "    return PrivacyBudget(min(total_epsilon_naive, total_epsilon_drv, total_epsilon_kov), total_delta)"
   ]
  },
  {
   "cell_type": "code",
   "execution_count": 10,
   "id": "b03b20cd",
   "metadata": {},
   "outputs": [],
   "source": [
    "def split_privacy_budget(k: int, budget: PrivacyBudget) -> PrivacyBudget:\n",
    "    delta = 1 - ((1 - budget.delta) / (1)) ** (1 / k)\n",
    "\n",
    "    lower = 0\n",
    "    upper = budget.epsilon\n",
    "    old_interval_size = (upper - lower) * 2\n",
    "\n",
    "    while old_interval_size > upper - lower:\n",
    "        old_interval_size = upper - lower\n",
    "        mid = (upper + lower) / 2\n",
    "\n",
    "        spent_budget = [(mid, 0)] * k\n",
    "        cost = total(spent_budget=spent_budget, slack=budget.delta)\n",
    "\n",
    "        if cost.epsilon >= budget.epsilon:\n",
    "            upper = mid\n",
    "        if cost.epsilon <= budget.epsilon:\n",
    "            lower = mid\n",
    "\n",
    "    epsilon = (upper + lower) / 2\n",
    "\n",
    "    return PrivacyBudget(epsilon, delta)"
   ]
  },
  {
   "cell_type": "code",
   "execution_count": 14,
   "id": "a8149a88",
   "metadata": {},
   "outputs": [
    {
     "data": {
      "text/plain": [
       "PrivacyBudget(epsilon=0.5, delta=1.000004499984719e-06)"
      ]
     },
     "execution_count": 14,
     "metadata": {},
     "output_type": "execute_result"
    }
   ],
   "source": [
    "split_privacy_budget(10, PrivacyBudget(5.0, 1e-5))"
   ]
  }
 ],
 "metadata": {
  "kernelspec": {
   "display_name": "venv",
   "language": "python",
   "name": "python3"
  },
  "language_info": {
   "codemirror_mode": {
    "name": "ipython",
    "version": 3
   },
   "file_extension": ".py",
   "mimetype": "text/x-python",
   "name": "python",
   "nbconvert_exporter": "python",
   "pygments_lexer": "ipython3",
   "version": "3.10.12"
  }
 },
 "nbformat": 4,
 "nbformat_minor": 5
}
