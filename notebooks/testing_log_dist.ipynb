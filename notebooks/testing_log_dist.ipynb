{
 "cells": [
  {
   "cell_type": "code",
   "execution_count": 73,
   "id": "5d1239d6",
   "metadata": {},
   "outputs": [
    {
     "data": {
      "text/plain": [
       "4"
      ]
     },
     "execution_count": 73,
     "metadata": {},
     "output_type": "execute_result"
    }
   ],
   "source": [
    "from scipy.stats import logser   # SciPy ≥ 1.8\n",
    "\n",
    "\n",
    "gamma = 0.05\n",
    "\n",
    "MAX_TRIALS = 200\n",
    "\n",
    "p = 1 - gamma\n",
    "k = logser.rvs(p)\n",
    "\n",
    "if k > MAX_TRIALS:\n",
    "    print(f\"Sampled n_trials {k} exceeds MAX_TRIALS {MAX_TRIALS}. Clamping to MAX_TRIALS.\")\n",
    "    k = MAX_TRIALS\n",
    "elif k < 1:\n",
    "    raise ValueError(f\"Sampled n_trials {k} is less than 1, which is invalid. Adjust gamma or MAX_TRIALS.\")\n",
    "\n",
    "k"
   ]
  }
 ],
 "metadata": {
  "kernelspec": {
   "display_name": "venv",
   "language": "python",
   "name": "python3"
  },
  "language_info": {
   "codemirror_mode": {
    "name": "ipython",
    "version": 3
   },
   "file_extension": ".py",
   "mimetype": "text/x-python",
   "name": "python",
   "nbconvert_exporter": "python",
   "pygments_lexer": "ipython3",
   "version": "3.10.12"
  }
 },
 "nbformat": 4,
 "nbformat_minor": 5
}
