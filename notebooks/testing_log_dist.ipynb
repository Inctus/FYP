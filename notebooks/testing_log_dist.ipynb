{
 "cells": [
  {
   "cell_type": "code",
   "execution_count": 32,
   "id": "5d1239d6",
   "metadata": {},
   "outputs": [
    {
     "data": {
      "text/plain": [
       "76"
      ]
     },
     "execution_count": 32,
     "metadata": {},
     "output_type": "execute_result"
    }
   ],
   "source": [
    "from scipy.stats import logser   # SciPy ≥ 1.8\n",
    "\n",
    "\n",
    "gamma = 0.003\n",
    "\n",
    "MAX_TRIALS = 200\n",
    "\n",
    "p = 1 - gamma\n",
    "k = logser.rvs(p)\n",
    "\n",
    "if k > MAX_TRIALS:\n",
    "    print(f\"Sampled n_trials {k} exceeds MAX_TRIALS {MAX_TRIALS}. Clamping to MAX_TRIALS.\")\n",
    "    k = MAX_TRIALS\n",
    "elif k < 1:\n",
    "    raise ValueError(f\"Sampled n_trials {k} is less than 1, which is invalid. Adjust gamma or MAX_TRIALS.\")\n",
    "\n",
    "k"
   ]
  },
  {
   "cell_type": "code",
   "execution_count": 33,
   "id": "3d07cf9b",
   "metadata": {},
   "outputs": [],
   "source": [
    "import math\n",
    "import numpy as np\n",
    "\n",
    "def calculate_overall_dp_from_poisson_per_trial(eps0, delta0, mu, target_epsilon_total):\n",
    "    \"\"\"\n",
    "    Calculates the minimum overall delta_total achievable at a given target_epsilon_total,\n",
    "    when the base mechanism has (eps0, delta0)-DP and is run K ~ Poisson(mu) times.\n",
    "\n",
    "    Based on Corollary 21 (Poisson to approx RDP) and Lemma 14 (approx RDP to approx DP)\n",
    "    from the provided sources.\n",
    "\n",
    "    Args:\n",
    "        eps0: Per-trial epsilon for the base mechanism.\n",
    "        delta0: Per-trial delta for the base mechanism.\n",
    "        mu: Mean of the Poisson distribution for the number of repetitions K.\n",
    "        target_epsilon_total: The overall epsilon for which to calculate the minimum delta.\n",
    "\n",
    "    Returns:\n",
    "        The calculated minimum overall delta_total for the target_epsilon_total,\n",
    "        or float('inf') if calculation is not feasible or stable.\n",
    "    \"\"\"\n",
    "    if mu <= 0:\n",
    "        # Poisson mean must be positive [6]\n",
    "        return float('inf')\n",
    "    if eps0 < 0 or delta0 < 0:\n",
    "        return float('inf')\n",
    "    if target_epsilon_total < 0:\n",
    "         return float('inf')\n",
    "\n",
    "    # Calculate approximate RDP parameters from Corollary 21 [2]\n",
    "    # delta_prime is the approximate term in approximate RDP\n",
    "    delta_prime_rdp = 1 - math.exp(-mu * delta0)\n",
    "    # epsilon_prime is the RDP parameter for the non-approximate part\n",
    "    # Note: This epsilon_prime is valid for lambda <= 1 + 1/(e^eps0 - 1) per Corollary 21 [2]\n",
    "    try:\n",
    "        epsilon_prime_base = eps0 + (math.exp(eps0) - 1) * math.log(mu)\n",
    "    except ValueError:\n",
    "         # math.log(mu) fails if mu <= 0, already handled above, but added for safety\n",
    "         return float('inf')\n",
    "\n",
    "    # Determine the maximum lambda for which the epsilon_prime_base formula is stated to hold [2, 4]\n",
    "    try:\n",
    "        if math.exp(eps0) - 1 > 0:\n",
    "             max_lambda_for_epsilon_prime = 1 + 1 / (math.exp(eps0) - 1)\n",
    "        else: # Handles eps0 very close to 0 or 0\n",
    "             max_lambda_for_epsilon_prime = float('inf') # In limit as eps0 -> 0, 1/(e^eps0-1) -> 1/eps0 -> inf\n",
    "    except OverflowError: # math.exp(eps0) is too large\n",
    "         max_lambda_for_epsilon_prime = 1.0 # effectively no lambda > 1 is valid\n",
    "\n",
    "    # Range of lambda values to check for conversion to (epsilon, delta)-DP [3, 5]\n",
    "    # We should check lambdas > 1 and within the range where epsilon_prime_base is valid.\n",
    "    # Choosing a few points for demonstration. A more robust implementation\n",
    "    # might search this range more thoroughly.\n",
    "    lambdas_to_check = np.linspace(1.1, min(max_lambda_for_epsilon_prime, 100.0), num=20) # Check up to 100 or max_lambda\n",
    "\n",
    "    min_delta_total = float('inf')\n",
    "\n",
    "    for lambda_rdp in lambdas_to_check:\n",
    "        if lambda_rdp <= 1.0:\n",
    "             # Lemma 14 conversion formula is for lambda > 1 [3]\n",
    "             continue\n",
    "\n",
    "        # Use the conversion formula from Lemma 14:\n",
    "        # delta_total = delta_prime_rdp + exp((lambda-1)(epsilon_prime - epsilon_total)) / (lambda * (1 - 1/lambda)^(lambda-1)) [3]\n",
    "        try:\n",
    "            # Numerically stable calculation of (1 - 1/lambda)^(lambda-1)\n",
    "            log_term = (lambda_rdp - 1) * math.log(1 - 1/lambda_rdp)\n",
    "            denominator_term = lambda_rdp * math.exp(log_term)\n",
    "\n",
    "            # Calculate the exponential term from RDP to DP conversion\n",
    "            exp_term_conversion = (lambda_rdp - 1) * (epsilon_prime_base - target_epsilon_total)\n",
    "\n",
    "            # Ensure the exponential term doesn't cause overflow/underflow issues\n",
    "            if exp_term_conversion > 700: # Approx log(max_float)\n",
    "                 delta_from_conversion = float('inf')\n",
    "            elif exp_term_conversion < -700: # Approx log(min_float > 0)\n",
    "                 delta_from_conversion = 0\n",
    "            else:\n",
    "                 delta_from_conversion = math.exp(exp_term_conversion) / denominator_term\n",
    "\n",
    "            current_delta_total = delta_prime_rdp + delta_from_conversion\n",
    "\n",
    "            min_delta_total = min(min_delta_total, current_delta_total)\n",
    "\n",
    "        except (ValueError, OverflowError, ZeroDivisionError) as e:\n",
    "             # Handle cases where math.log, math.exp, or division by zero might fail\n",
    "             # print(f\"Warning: Calculation failed for lambda={lambda_rdp}: {e}\")\n",
    "             continue # Skip this lambda value\n",
    "\n",
    "    return min_delta_total"
   ]
  },
  {
   "cell_type": "code",
   "execution_count": 52,
   "id": "bf570200",
   "metadata": {},
   "outputs": [
    {
     "data": {
      "text/plain": [
       "0.0041807724736178135"
      ]
     },
     "execution_count": 52,
     "metadata": {},
     "output_type": "execute_result"
    }
   ],
   "source": [
    "eps0_per_trial = 0.5\n",
    "delta0_per_trial = 1e-5\n",
    "mu_poisson = 5.0\n",
    "\n",
    "target_overall_epsilon = 5.0\n",
    "\n",
    "overall_delta_calculated = calculate_overall_dp_from_poisson_per_trial(\n",
    "    eps0_per_trial, delta0_per_trial, mu_poisson, target_overall_epsilon\n",
    ")\n",
    "\n",
    "overall_delta_calculated"
   ]
  },
  {
   "cell_type": "code",
   "execution_count": null,
   "id": "c41ab275",
   "metadata": {},
   "outputs": [],
   "source": []
  }
 ],
 "metadata": {
  "kernelspec": {
   "display_name": "venv",
   "language": "python",
   "name": "python3"
  },
  "language_info": {
   "codemirror_mode": {
    "name": "ipython",
    "version": 3
   },
   "file_extension": ".py",
   "mimetype": "text/x-python",
   "name": "python",
   "nbconvert_exporter": "python",
   "pygments_lexer": "ipython3",
   "version": "3.10.12"
  }
 },
 "nbformat": 4,
 "nbformat_minor": 5
}
