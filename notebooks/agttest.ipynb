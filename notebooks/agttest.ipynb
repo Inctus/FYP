{
 "cells": [
  {
   "cell_type": "code",
   "execution_count": 2,
   "id": "a8ee4be9",
   "metadata": {},
   "outputs": [
    {
     "name": "stdout",
     "output_type": "stream",
     "text": [
      "['AGTConfig', '__builtins__', '__cached__', '__doc__', '__file__', '__loader__', '__name__', '__package__', '__path__', '__spec__', 'bounded_losses', 'bounded_models', 'bounded_optimizers', 'certified_training', 'configuration', 'formatter', 'interval_arithmetic', 'logger', 'logging', 'poison_certified_training', 'privacy_certified_training', 'privacy_utils', 'sh', 'test_metrics', 'uncertified_training', 'unlearning_certified_training']\n"
     ]
    }
   ],
   "source": [
    "import abstract_gradient_training as agt\n",
    "\n",
    "print(dir(agt))"
   ]
  }
 ],
 "metadata": {
  "kernelspec": {
   "display_name": "venv",
   "language": "python",
   "name": "python3"
  },
  "language_info": {
   "codemirror_mode": {
    "name": "ipython",
    "version": 3
   },
   "file_extension": ".py",
   "mimetype": "text/x-python",
   "name": "python",
   "nbconvert_exporter": "python",
   "pygments_lexer": "ipython3",
   "version": "3.10.12"
  }
 },
 "nbformat": 4,
 "nbformat_minor": 5
}
